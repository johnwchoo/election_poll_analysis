{
 "cells": [
  {
   "cell_type": "code",
   "execution_count": 1,
   "metadata": {},
   "outputs": [],
   "source": [
    "import csv\n",
    "import os\n",
    "\n",
    "csvpath = os.path.join('Resources','election_data.csv')"
   ]
  },
  {
   "cell_type": "code",
   "execution_count": 2,
   "metadata": {},
   "outputs": [
    {
     "ename": "FileNotFoundError",
     "evalue": "[Errno 2] No such file or directory: 'Resources/election_data.csv'",
     "output_type": "error",
     "traceback": [
      "\u001b[0;31m---------------------------------------------------------------------------\u001b[0m",
      "\u001b[0;31mFileNotFoundError\u001b[0m                         Traceback (most recent call last)",
      "\u001b[0;32m<ipython-input-2-a5e0c2a57bbc>\u001b[0m in \u001b[0;36m<module>\u001b[0;34m\u001b[0m\n\u001b[0;32m----> 1\u001b[0;31m \u001b[0;32mwith\u001b[0m \u001b[0mopen\u001b[0m\u001b[0;34m(\u001b[0m\u001b[0mcsvpath\u001b[0m\u001b[0;34m,\u001b[0m \u001b[0mnewline\u001b[0m \u001b[0;34m=\u001b[0m \u001b[0;34m''\u001b[0m\u001b[0;34m)\u001b[0m \u001b[0;32mas\u001b[0m \u001b[0mcsvfile\u001b[0m\u001b[0;34m:\u001b[0m\u001b[0;34m\u001b[0m\u001b[0;34m\u001b[0m\u001b[0m\n\u001b[0m\u001b[1;32m      2\u001b[0m         \u001b[0mcsvreader\u001b[0m \u001b[0;34m=\u001b[0m \u001b[0mcsv\u001b[0m\u001b[0;34m.\u001b[0m\u001b[0mreader\u001b[0m\u001b[0;34m(\u001b[0m\u001b[0mcsvfile\u001b[0m\u001b[0;34m,\u001b[0m \u001b[0mdelimiter\u001b[0m \u001b[0;34m=\u001b[0m \u001b[0;34m','\u001b[0m\u001b[0;34m)\u001b[0m\u001b[0;34m\u001b[0m\u001b[0;34m\u001b[0m\u001b[0m\n\u001b[1;32m      3\u001b[0m \u001b[0;34m\u001b[0m\u001b[0m\n\u001b[1;32m      4\u001b[0m         \u001b[0mprint\u001b[0m\u001b[0;34m(\u001b[0m\u001b[0mcsvreader\u001b[0m\u001b[0;34m)\u001b[0m\u001b[0;34m\u001b[0m\u001b[0;34m\u001b[0m\u001b[0m\n\u001b[1;32m      5\u001b[0m \u001b[0;34m\u001b[0m\u001b[0m\n",
      "\u001b[0;31mFileNotFoundError\u001b[0m: [Errno 2] No such file or directory: 'Resources/election_data.csv'"
     ]
    }
   ],
   "source": [
    "with open(csvpath, newline = '') as csvfile:\n",
    "\tcsvreader = csv.reader(csvfile, delimiter = ',')\n",
    "\n",
    "\tprint(csvreader)\n",
    "\n",
    "\tcsv_header = next(csvreader)\n",
    "\tprint(f\"CSV Header: {csv_header}\")\n",
    "\n",
    "\tvoter_count = 0\n",
    "\tKhan = 0\n",
    "\tCorrey = 0\n",
    "\tLi = 0\n",
    "\tOTooley = 0\n",
    "\n",
    "\tfor row in csvreader:\n",
    "\t\tvoter_count += 1\n",
    "\t\tif row[2] == \"Khan\":\n",
    "\t\t\tKhan += 1\n",
    "\n",
    "\t\telif row[2] == \"Correy\":\n",
    "\t\t\tCorrey += 1\n",
    "\n",
    "\t\telif row[2] == \"Li\":\n",
    "\t\t\tLi += 1\n",
    "\n",
    "\t\telse:\n",
    "\t\t\tOTooley += 1"
   ]
  },
  {
   "cell_type": "code",
   "execution_count": null,
   "metadata": {},
   "outputs": [],
   "source": [
    "print(\" \")\n",
    "print(\"Election Results\")\n",
    "print(\"-------------------------\")\t\n",
    "print(f\"Total Votes: {voter_count}\")\n",
    "print(\"-------------------------\")\t\n",
    "print(f\"Khan: {round(Khan*100/voter_count, 4)}% ({Khan})\")\n",
    "print(f\"Correy: {round(Correy*100/voter_count, 4)}% ({Correy}\")\n",
    "print(f\"Li: {round(Li*100/voter_count, 4)}% ({Li})\")\n",
    "print(f\"O'Tooley: {round(OTooley*100/voter_count, 4)}% ({OTooley})\")\n",
    "print(\"-------------------------\")\t\n",
    "# ^ I have to round these numbers"
   ]
  },
  {
   "cell_type": "code",
   "execution_count": null,
   "metadata": {},
   "outputs": [],
   "source": [
    "if int(Khan) > int(Correy):\n",
    "\tif int(Khan) > int(Li):\n",
    "\t\tif int(Khan) > int(OTooley):\n",
    "\t\t\tprint(\"Winner: Khan\")\n",
    "\n",
    "# ^ Khan wins\n",
    "\n",
    "\n",
    "if int(Correy) > int(Khan):\n",
    "\tif int(Correy) > int(Li):\n",
    "\t\tif int(Correy) > int(OTooley):\n",
    "\t\t\tprint(\"Winner: Correy\")\n",
    "\n",
    "# ^ Correy wins\n",
    "\n",
    "if int(Li) > int(Khan):\n",
    "\tif int(Li) > int(Correy):\n",
    "\t\tif int(Li) > int(OTooley):\n",
    "\t\t\tprint(\"Winner: Li\")\n",
    "\n",
    "# ^ Li wins\n",
    "\n",
    "if int(OTooley) > int(Khan):\n",
    "\tif int(OTooley) > int(Correy):\n",
    "\t\tif int(OTooley) > int(Li):\n",
    "\t\t\tprint(\"Winner: OTooley\")\n",
    "\n",
    "# ^ OTooley wins\n",
    "print(\"-------------------------\")\t"
   ]
  }
 ],
 "metadata": {
  "kernelspec": {
   "display_name": "Python 3",
   "language": "python",
   "name": "python3"
  },
  "language_info": {
   "codemirror_mode": {
    "name": "ipython",
    "version": 3
   },
   "file_extension": ".py",
   "mimetype": "text/x-python",
   "name": "python",
   "nbconvert_exporter": "python",
   "pygments_lexer": "ipython3",
   "version": "3.7.3"
  }
 },
 "nbformat": 4,
 "nbformat_minor": 2
}
